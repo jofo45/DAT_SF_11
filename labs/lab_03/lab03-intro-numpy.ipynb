{
 "metadata": {
  "name": "",
  "signature": "sha256:369ddffe432da99e22c26f637b9945b948f11712122b4d10c3328deb9117ac5c"
 },
 "nbformat": 3,
 "nbformat_minor": 0,
 "worksheets": [
  {
   "cells": [
    {
     "cell_type": "markdown",
     "metadata": {},
     "source": [
      "# Lab 03 - Numpy Intro"
     ]
    },
    {
     "cell_type": "code",
     "collapsed": false,
     "input": [
      "# Standard imports for data analysis packages in Python\n",
      "import pandas as pd\n",
      "import numpy as np\n",
      "import seaborn as sns\n",
      "import matplotlib.pyplot as plt\n",
      "from IPython.display import Image\n",
      "\n",
      "# This enables inline Plots\n",
      "%matplotlib inline\n",
      "\n",
      "# Limit rows displayed in notebook\n",
      "pd.set_option('display.max_rows', 10)\n",
      "pd.set_option('display.precision', 2)"
     ],
     "language": "python",
     "metadata": {},
     "outputs": [],
     "prompt_number": 7
    },
    {
     "cell_type": "code",
     "collapsed": false,
     "input": [
      "print 'Pandas Version: ', pd.__version__\n",
      "print 'Numpy Version: ', np.__version__"
     ],
     "language": "python",
     "metadata": {},
     "outputs": [
      {
       "output_type": "stream",
       "stream": "stdout",
       "text": [
        "Pandas Version:  0.14.1\n",
        "Numpy Version:  1.9.0\n"
       ]
      }
     ],
     "prompt_number": 8
    },
    {
     "cell_type": "markdown",
     "metadata": {},
     "source": [
      "## Numpy\n",
      "\n",
      "* Pandas is built on top of Numpy.  Each Column in a Pandas DataFrame is a Numpy Array\n",
      "* Plotting functions (matplotlib) needs Numpy Arrays as input\n",
      "* Scikit-Learn needs Numpy Array as Input for Features and Lables and building Models\n",
      "\n",
      "Let's do a overview of Numpy Data Structures and Functions.\n",
      "\n",
      "### Data Strcutres\n",
      "\n",
      "* Arrays\n",
      "* Matrices"
     ]
    },
    {
     "cell_type": "markdown",
     "metadata": {},
     "source": [
      "#### Arrays"
     ]
    },
    {
     "cell_type": "code",
     "collapsed": false,
     "input": [
      "# One Dimensional Array\n",
      "arr1 = np.array([1, 2, 3, 4, 5, 6])\n",
      "print 'Shape of Array: ', arr1.shape\n",
      "print 'Type of object: ', type(arr1)\n",
      "print 'Type of contents: ', arr1.dtype\n",
      "print 'Size (elements): ', arr1.size\n",
      "print 'ndim (number of dim): ', arr1.ndim\n",
      "print arr1"
     ],
     "language": "python",
     "metadata": {},
     "outputs": [
      {
       "output_type": "stream",
       "stream": "stdout",
       "text": [
        "Shape of Array:  (6,)\n",
        "Type of object:  <type 'numpy.ndarray'>\n",
        "Type of contents:  int64\n",
        "Size (elements):  6\n",
        "ndim (number of dim):  1\n",
        "[1 2 3 4 5 6]\n"
       ]
      }
     ],
     "prompt_number": 9
    },
    {
     "cell_type": "code",
     "collapsed": false,
     "input": [
      "# Selecting elements from array (Slicing)\n",
      "arr1[1]"
     ],
     "language": "python",
     "metadata": {},
     "outputs": [
      {
       "metadata": {},
       "output_type": "pyout",
       "prompt_number": 10,
       "text": [
        "2"
       ]
      }
     ],
     "prompt_number": 10
    },
    {
     "cell_type": "code",
     "collapsed": false,
     "input": [
      "# Selecting a range - notice that it starts at lower limit upto the upper limt (not including).  Same behavior as Python list\n",
      "arr1[1:3]"
     ],
     "language": "python",
     "metadata": {},
     "outputs": [
      {
       "metadata": {},
       "output_type": "pyout",
       "prompt_number": 11,
       "text": [
        "array([2, 3])"
       ]
      }
     ],
     "prompt_number": 11
    },
    {
     "cell_type": "markdown",
     "metadata": {},
     "source": [
      "#### Assigning Values"
     ]
    },
    {
     "cell_type": "code",
     "collapsed": false,
     "input": [
      "# You can assign values individually\n",
      "arr1[0] = 10\n",
      "arr1"
     ],
     "language": "python",
     "metadata": {},
     "outputs": [
      {
       "metadata": {},
       "output_type": "pyout",
       "prompt_number": 12,
       "text": [
        "array([10,  2,  3,  4,  5,  6])"
       ]
      }
     ],
     "prompt_number": 12
    },
    {
     "cell_type": "code",
     "collapsed": false,
     "input": [
      "# Or Assign a indivual value to a range\n",
      "arr1[1:] = 20  # Start at 1st element till END\n",
      "arr1"
     ],
     "language": "python",
     "metadata": {},
     "outputs": [
      {
       "metadata": {},
       "output_type": "pyout",
       "prompt_number": 13,
       "text": [
        "array([10, 20, 20, 20, 20, 20])"
       ]
      }
     ],
     "prompt_number": 13
    },
    {
     "cell_type": "code",
     "collapsed": false,
     "input": [
      "# Two Dimensional Array\n",
      "arr2 = np.array([[1, 2, 3], [4, 5, 6]])\n",
      "print 'Shape of Array: ', arr2.shape\n",
      "print 'Type of object: ', type(arr2)\n",
      "print 'Type of contents: ', arr2.dtype\n",
      "print 'Size (elements): ', arr2.size\n",
      "print 'ndim (number of dim): ', arr2.ndim\n",
      "print arr2"
     ],
     "language": "python",
     "metadata": {},
     "outputs": [
      {
       "output_type": "stream",
       "stream": "stdout",
       "text": [
        "Shape of Array:  (2, 3)\n",
        "Type of object:  <type 'numpy.ndarray'>\n",
        "Type of contents:  int64\n",
        "Size (elements):  6\n",
        "ndim (number of dim):  2\n",
        "[[1 2 3]\n",
        " [4 5 6]]\n"
       ]
      }
     ],
     "prompt_number": 14
    },
    {
     "cell_type": "code",
     "collapsed": false,
     "input": [
      "# Reshape One-D to Two-D Array\n",
      "arr1.reshape(2, 3)"
     ],
     "language": "python",
     "metadata": {},
     "outputs": [
      {
       "metadata": {},
       "output_type": "pyout",
       "prompt_number": 15,
       "text": [
        "array([[10, 20, 20],\n",
        "       [20, 20, 20]])"
       ]
      }
     ],
     "prompt_number": 15
    },
    {
     "cell_type": "code",
     "collapsed": false,
     "input": [
      "arr1.reshape((3, 2))"
     ],
     "language": "python",
     "metadata": {},
     "outputs": [
      {
       "metadata": {},
       "output_type": "pyout",
       "prompt_number": 16,
       "text": [
        "array([[10, 20],\n",
        "       [20, 20],\n",
        "       [20, 20]])"
       ]
      }
     ],
     "prompt_number": 16
    },
    {
     "cell_type": "code",
     "collapsed": false,
     "input": [
      "arr1"
     ],
     "language": "python",
     "metadata": {},
     "outputs": [
      {
       "metadata": {},
       "output_type": "pyout",
       "prompt_number": 17,
       "text": [
        "array([10, 20, 20, 20, 20, 20])"
       ]
      }
     ],
     "prompt_number": 17
    },
    {
     "cell_type": "code",
     "collapsed": false,
     "input": [
      "arr1.reshape((:,))"
     ],
     "language": "python",
     "metadata": {},
     "outputs": [
      {
       "ename": "SyntaxError",
       "evalue": "invalid syntax (<ipython-input-18-a3e9de37a843>, line 1)",
       "output_type": "pyerr",
       "traceback": [
        "\u001b[0;36m  File \u001b[0;32m\"<ipython-input-18-a3e9de37a843>\"\u001b[0;36m, line \u001b[0;32m1\u001b[0m\n\u001b[0;31m    arr1.reshape((:,))\u001b[0m\n\u001b[0m                  ^\u001b[0m\n\u001b[0;31mSyntaxError\u001b[0m\u001b[0;31m:\u001b[0m invalid syntax\n"
       ]
      }
     ],
     "prompt_number": 18
    },
    {
     "cell_type": "code",
     "collapsed": false,
     "input": [
      "# When you add a scalar to an array, it adds it to each element in the array.\n",
      "# This is called broadcasting\n",
      "arr1 + 5"
     ],
     "language": "python",
     "metadata": {},
     "outputs": [
      {
       "metadata": {},
       "output_type": "pyout",
       "prompt_number": 19,
       "text": [
        "array([15, 25, 25, 25, 25, 25])"
       ]
      }
     ],
     "prompt_number": 19
    },
    {
     "cell_type": "code",
     "collapsed": false,
     "input": [
      "# Same thing with other operators on Scalar.  All operations broadcast to each element\n",
      "arr1 * 5"
     ],
     "language": "python",
     "metadata": {},
     "outputs": [
      {
       "metadata": {},
       "output_type": "pyout",
       "prompt_number": 20,
       "text": [
        "array([ 50, 100, 100, 100, 100, 100])"
       ]
      }
     ],
     "prompt_number": 20
    },
    {
     "cell_type": "code",
     "collapsed": false,
     "input": [
      "# It works on 2-D Arrays too\n",
      "arr2 * 10"
     ],
     "language": "python",
     "metadata": {},
     "outputs": [
      {
       "metadata": {},
       "output_type": "pyout",
       "prompt_number": 21,
       "text": [
        "array([[10, 20, 30],\n",
        "       [40, 50, 60]])"
       ]
      }
     ],
     "prompt_number": 21
    },
    {
     "cell_type": "code",
     "collapsed": false,
     "input": [
      "# Now, lets add two Numpy Arrays\n",
      "arr1 = np.array([1, 2, 3])\n",
      "arr2 = np.array([4, 5, 6])\n",
      "\n",
      "arr1 + arr2"
     ],
     "language": "python",
     "metadata": {},
     "outputs": [
      {
       "metadata": {},
       "output_type": "pyout",
       "prompt_number": 22,
       "text": [
        "array([5, 7, 9])"
       ]
      }
     ],
     "prompt_number": 22
    },
    {
     "cell_type": "code",
     "collapsed": false,
     "input": [
      "# Multiply Two Numpy Arrays\n",
      "arr1 * arr2"
     ],
     "language": "python",
     "metadata": {},
     "outputs": [
      {
       "metadata": {},
       "output_type": "pyout",
       "prompt_number": 23,
       "text": [
        "array([ 4, 10, 18])"
       ]
      }
     ],
     "prompt_number": 23
    },
    {
     "cell_type": "markdown",
     "metadata": {},
     "source": [
      "Main Idea: ALL Numpy Operations are element-wise operations.\n",
      "\n",
      "* Adding to Numpy Arrays, results in does element-wise addition\n",
      "* Multiplying two Arrays, results in element-wise multiplication"
     ]
    },
    {
     "cell_type": "markdown",
     "metadata": {},
     "source": [
      "#### Exercise 1:  Now do this on Python List.  Do you see any difference\n",
      "\n",
      "* Add two Python lists\n",
      "* Multiple two Python lists\n",
      "* Add a scalar to a Python list\n",
      "* Multiply a Scalar to Python list"
     ]
    },
    {
     "cell_type": "code",
     "collapsed": false,
     "input": [
      "seq1 = [1, 2, 3]\n",
      "seq2 = [4, 5, 6]"
     ],
     "language": "python",
     "metadata": {},
     "outputs": [],
     "prompt_number": 24
    },
    {
     "cell_type": "code",
     "collapsed": false,
     "input": [
      "# Add two Python lists\n",
      "# your code here\n",
      "\n",
      "\n",
      "seq1 + seq2\n",
      "\n"
     ],
     "language": "python",
     "metadata": {},
     "outputs": [
      {
       "metadata": {},
       "output_type": "pyout",
       "prompt_number": 25,
       "text": [
        "[1, 2, 3, 4, 5, 6]"
       ]
      }
     ],
     "prompt_number": 25
    },
    {
     "cell_type": "code",
     "collapsed": false,
     "input": [
      "# Multiply two Python lists\n",
      "# your code here\n",
      "\n",
      "seq1 * seq2\n"
     ],
     "language": "python",
     "metadata": {},
     "outputs": [
      {
       "ename": "TypeError",
       "evalue": "can't multiply sequence by non-int of type 'list'",
       "output_type": "pyerr",
       "traceback": [
        "\u001b[0;31m---------------------------------------------------------------------------\u001b[0m\n\u001b[0;31mTypeError\u001b[0m                                 Traceback (most recent call last)",
        "\u001b[0;32m<ipython-input-26-2492760ad0fa>\u001b[0m in \u001b[0;36m<module>\u001b[0;34m()\u001b[0m\n\u001b[1;32m      2\u001b[0m \u001b[0;31m# your code here\u001b[0m\u001b[0;34m\u001b[0m\u001b[0;34m\u001b[0m\u001b[0m\n\u001b[1;32m      3\u001b[0m \u001b[0;34m\u001b[0m\u001b[0m\n\u001b[0;32m----> 4\u001b[0;31m \u001b[0mseq1\u001b[0m \u001b[0;34m*\u001b[0m \u001b[0mseq2\u001b[0m\u001b[0;34m\u001b[0m\u001b[0m\n\u001b[0m",
        "\u001b[0;31mTypeError\u001b[0m: can't multiply sequence by non-int of type 'list'"
       ]
      }
     ],
     "prompt_number": 26
    },
    {
     "cell_type": "code",
     "collapsed": false,
     "input": [
      "# Add a scalar to a Python list\n",
      "# Hint: seq1 + <number>"
     ],
     "language": "python",
     "metadata": {},
     "outputs": [],
     "prompt_number": 27
    },
    {
     "cell_type": "code",
     "collapsed": false,
     "input": [
      "# Multiply a scalar to a Python list\n",
      "# Hint: seq1 + <number>"
     ],
     "language": "python",
     "metadata": {},
     "outputs": [],
     "prompt_number": 28
    },
    {
     "cell_type": "code",
     "collapsed": false,
     "input": [
      "# How about slicing, does Numpy Array work the same as List?"
     ],
     "language": "python",
     "metadata": {},
     "outputs": [],
     "prompt_number": 29
    },
    {
     "cell_type": "markdown",
     "metadata": {},
     "source": [
      "But when you try to add a scalar value to a list, you will get an error\n",
      "\n",
      "Compare Numpy Array to Python List operations.  \n",
      "\n",
      "* Do you see any difference in behavior in Operations\n",
      "* How about slicing\n",
      "\n",
      "You will see that Numpy's broadcasting is what makes everything else possible in data analysis with Python"
     ]
    },
    {
     "cell_type": "markdown",
     "metadata": {},
     "source": [
      "#### Matrices\n",
      "\n",
      "* Matrix is like an Array, except that all operations are Matrix operations"
     ]
    },
    {
     "cell_type": "code",
     "collapsed": false,
     "input": [
      "# All Matrix objects are multi-dimensional.  See the difference between this and 1-D Arrays in the top\n",
      "mat1 = np.matrix([1, 2, 3])\n",
      "print 'Matrix Shape: ', mat1.shape\n",
      "print mat1"
     ],
     "language": "python",
     "metadata": {},
     "outputs": [
      {
       "output_type": "stream",
       "stream": "stdout",
       "text": [
        "Matrix Shape:  (1, 3)\n",
        "[[1 2 3]]\n"
       ]
      }
     ],
     "prompt_number": 30
    },
    {
     "cell_type": "markdown",
     "metadata": {},
     "source": [
      "# 2-D Matrix\n",
      "mat2 = np.matrix([[1, 2, 3], [4, 5, 6], [7, 8, 9]])\n",
      "print 'Matrix Shape: ', mat2.shape\n",
      "print mat2"
     ]
    },
    {
     "cell_type": "markdown",
     "metadata": {},
     "source": [
      "#### Matrices are like Arrays, but you can do Matrix Manipulations"
     ]
    },
    {
     "cell_type": "code",
     "collapsed": false,
     "input": [
      "# Addition is Element wise addition\n",
      "mat1 + mat1"
     ],
     "language": "python",
     "metadata": {},
     "outputs": [
      {
       "metadata": {},
       "output_type": "pyout",
       "prompt_number": 31,
       "text": [
        "matrix([[2, 4, 6]])"
       ]
      }
     ],
     "prompt_number": 31
    },
    {
     "cell_type": "code",
     "collapsed": false,
     "input": [
      "# Matrix Multipliction\n",
      "mat1 * mat2"
     ],
     "language": "python",
     "metadata": {},
     "outputs": [
      {
       "ename": "NameError",
       "evalue": "name 'mat2' is not defined",
       "output_type": "pyerr",
       "traceback": [
        "\u001b[0;31m---------------------------------------------------------------------------\u001b[0m\n\u001b[0;31mNameError\u001b[0m                                 Traceback (most recent call last)",
        "\u001b[0;32m<ipython-input-32-623c7c3d2474>\u001b[0m in \u001b[0;36m<module>\u001b[0;34m()\u001b[0m\n\u001b[1;32m      1\u001b[0m \u001b[0;31m# Matrix Multipliction\u001b[0m\u001b[0;34m\u001b[0m\u001b[0;34m\u001b[0m\u001b[0m\n\u001b[0;32m----> 2\u001b[0;31m \u001b[0mmat1\u001b[0m \u001b[0;34m*\u001b[0m \u001b[0mmat2\u001b[0m\u001b[0;34m\u001b[0m\u001b[0m\n\u001b[0m",
        "\u001b[0;31mNameError\u001b[0m: name 'mat2' is not defined"
       ]
      }
     ],
     "prompt_number": 32
    },
    {
     "cell_type": "markdown",
     "metadata": {},
     "source": [
      "We will mostly be using Numpy Arrays.  Infact you can do matrix operations on Matrices too.  But, just wanted to let you know of the Matrix datatype in Numpy."
     ]
    },
    {
     "cell_type": "markdown",
     "metadata": {},
     "source": [
      "### Numpy Functions"
     ]
    },
    {
     "cell_type": "code",
     "collapsed": false,
     "input": [
      "# Create a Numpy array from 1-100\n",
      "np.arange(1, 101)"
     ],
     "language": "python",
     "metadata": {},
     "outputs": [
      {
       "metadata": {},
       "output_type": "pyout",
       "prompt_number": 33,
       "text": [
        "array([  1,   2,   3,   4,   5,   6,   7,   8,   9,  10,  11,  12,  13,\n",
        "        14,  15,  16,  17,  18,  19,  20,  21,  22,  23,  24,  25,  26,\n",
        "        27,  28,  29,  30,  31,  32,  33,  34,  35,  36,  37,  38,  39,\n",
        "        40,  41,  42,  43,  44,  45,  46,  47,  48,  49,  50,  51,  52,\n",
        "        53,  54,  55,  56,  57,  58,  59,  60,  61,  62,  63,  64,  65,\n",
        "        66,  67,  68,  69,  70,  71,  72,  73,  74,  75,  76,  77,  78,\n",
        "        79,  80,  81,  82,  83,  84,  85,  86,  87,  88,  89,  90,  91,\n",
        "        92,  93,  94,  95,  96,  97,  98,  99, 100])"
       ]
      }
     ],
     "prompt_number": 33
    },
    {
     "cell_type": "code",
     "collapsed": false,
     "input": [
      "# Python list from 1 to 100.  Notice the similarities\n",
      "print range(1, 101)"
     ],
     "language": "python",
     "metadata": {},
     "outputs": [
      {
       "output_type": "stream",
       "stream": "stdout",
       "text": [
        "[1, 2, 3, 4, 5, 6, 7, 8, 9, 10, 11, 12, 13, 14, 15, 16, 17, 18, 19, 20, 21, 22, 23, 24, 25, 26, 27, 28, 29, 30, 31, 32, 33, 34, 35, 36, 37, 38, 39, 40, 41, 42, 43, 44, 45, 46, 47, 48, 49, 50, 51, 52, 53, 54, 55, 56, 57, 58, 59, 60, 61, 62, 63, 64, 65, 66, 67, 68, 69, 70, 71, 72, 73, 74, 75, 76, 77, 78, 79, 80, 81, 82, 83, 84, 85, 86, 87, 88, 89, 90, 91, 92, 93, 94, 95, 96, 97, 98, 99, 100]\n"
       ]
      }
     ],
     "prompt_number": 34
    },
    {
     "cell_type": "code",
     "collapsed": false,
     "input": [
      "# Enough of similarities.  Let's show some awesomeness\n",
      "# Create 10 elements between 0 and 1 - linearly separated\n",
      "np.linspace(0, 1, 10)"
     ],
     "language": "python",
     "metadata": {},
     "outputs": [
      {
       "metadata": {},
       "output_type": "pyout",
       "prompt_number": 35,
       "text": [
        "array([ 0.        ,  0.11111111,  0.22222222,  0.33333333,  0.44444444,\n",
        "        0.55555556,  0.66666667,  0.77777778,  0.88888889,  1.        ])"
       ]
      }
     ],
     "prompt_number": 35
    },
    {
     "cell_type": "code",
     "collapsed": false,
     "input": [
      "# Now, let's look at some distributions"
     ],
     "language": "python",
     "metadata": {},
     "outputs": [],
     "prompt_number": 36
    },
    {
     "cell_type": "code",
     "collapsed": false,
     "input": [
      "# Normal Dist\n",
      "# Mean of 1, std of 0.1, 10 elements\n",
      "np.random.normal(1, 0.1, 10)"
     ],
     "language": "python",
     "metadata": {},
     "outputs": [
      {
       "metadata": {},
       "output_type": "pyout",
       "prompt_number": 37,
       "text": [
        "array([ 1.01539996,  1.07500573,  1.00710217,  0.96026446,  1.08902781,\n",
        "        0.93832488,  0.88916919,  1.10994887,  0.95465973,  1.03702903])"
       ]
      }
     ],
     "prompt_number": 37
    },
    {
     "cell_type": "code",
     "collapsed": false,
     "input": [
      "# Standard Normal Dist\n",
      "np.random.randn(1, 10)"
     ],
     "language": "python",
     "metadata": {},
     "outputs": [
      {
       "metadata": {},
       "output_type": "pyout",
       "prompt_number": 38,
       "text": [
        "array([[ 0.48716323,  0.41560791,  0.38426198,  0.50534768,  2.34373392,\n",
        "         2.7467596 ,  0.25817713, -1.34401133, -2.11814619, -0.96836225]])"
       ]
      }
     ],
     "prompt_number": 38
    },
    {
     "cell_type": "code",
     "collapsed": false,
     "input": [
      "# Look at Other Distribitions - Gamma, binomial etc..\n",
      "# np.random."
     ],
     "language": "python",
     "metadata": {},
     "outputs": [],
     "prompt_number": 39
    },
    {
     "cell_type": "markdown",
     "metadata": {},
     "source": [
      "* Remember the imputation of Age we did for Titanic last week with the Mean Age Value?  Now that you know about Numpy distributions, you can impute the age for missing values with Normal Distribution centered on Mean Age and Std dev of Age.  How cool is that."
     ]
    },
    {
     "cell_type": "markdown",
     "metadata": {},
     "source": [
      "## Matplitlib\n",
      "\n",
      "- [Matplotlib](http://matplotlib.org)\n",
      "- [Matplotlib Gallery](http://matplotlib.org/gallery.html)\n",
      "- [Matplotlib Examples](http://matplotlib.org/examples)"
     ]
    },
    {
     "cell_type": "code",
     "collapsed": false,
     "input": [
      "# Let's plot the random Normal Distribution\n",
      "\n",
      "# Create a 100 Element Array with mean 1 and std 0.1\n",
      "arr1 = np.random.normal(1, 0.1, 100)"
     ],
     "language": "python",
     "metadata": {},
     "outputs": [],
     "prompt_number": 40
    },
    {
     "cell_type": "code",
     "collapsed": false,
     "input": [
      "fig, ax = plt.subplots(1, 1)\n",
      "ax.hist(arr1)"
     ],
     "language": "python",
     "metadata": {},
     "outputs": [
      {
       "metadata": {},
       "output_type": "pyout",
       "prompt_number": 43,
       "text": [
        "(array([  2.,   4.,   5.,  11.,  16.,  18.,  19.,  12.,   9.,   4.]),\n",
        " array([ 0.71089982,  0.76180744,  0.81271505,  0.86362267,  0.91453028,\n",
        "         0.9654379 ,  1.01634551,  1.06725313,  1.11816074,  1.16906836,\n",
        "         1.21997597]),\n",
        " <a list of 10 Patch objects>)"
       ]
      },
      {
       "metadata": {},
       "output_type": "display_data",
       "png": "[encoded data removed]",
       "text": [
        "<matplotlib.figure.Figure at 0x109ea3e10>"
       ]
      }
     ],
     "prompt_number": 43
    },
    {
     "cell_type": "code",
     "collapsed": false,
     "input": [
      "# Add a semi-colan if you don't want to see the returned BIN Values in the result\n",
      "fig, ax = plt.subplots(1, 1)\n",
      "ax.hist(arr1, bins=20);"
     ],
     "language": "python",
     "metadata": {},
     "outputs": [
      {
       "metadata": {},
       "output_type": "display_data",
       "png": "[encoded data removed]",
       "text": [
        "<matplotlib.figure.Figure at 0x10a4cc3d0>"
       ]
      }
     ],
     "prompt_number": 44
    },
    {
     "cell_type": "markdown",
     "metadata": {},
     "source": [
      "#### Exercise: Now, increase the Number of Elements to 10000 and does it change the shape of the distribution?"
     ]
    },
    {
     "cell_type": "code",
     "collapsed": false,
     "input": [
      "# Your Code here to draw a distribution of 10000 element Numpy Array\n",
      "\n",
      "arr2 = np.random.normal(1, 0.1, 10000)\n",
      "fig, ax = plt.subplots(1, 1)\n",
      "ax.hist(arr2, bins=20)"
     ],
     "language": "python",
     "metadata": {},
     "outputs": [
      {
       "metadata": {},
       "output_type": "pyout",
       "prompt_number": 51,
       "text": [
        "(array([   12.,    27.,    50.,   110.,   273.,   469.,   724.,  1040.,\n",
        "         1276.,  1374.,  1438.,  1169.,   901.,   518.,   316.,   179.,\n",
        "           77.,    31.,    13.,     3.]),\n",
        " array([ 0.6505974 ,  0.68648963,  0.72238187,  0.7582741 ,  0.79416633,\n",
        "         0.83005857,  0.8659508 ,  0.90184304,  0.93773527,  0.9736275 ,\n",
        "         1.00951974,  1.04541197,  1.08130421,  1.11719644,  1.15308868,\n",
        "         1.18898091,  1.22487314,  1.26076538,  1.29665761,  1.33254985,\n",
        "         1.36844208]),\n",
        " <a list of 20 Patch objects>)"
       ]
      },
      {
       "metadata": {},
       "output_type": "display_data",
       "png": "[encoded data removed]",
       "text": [
        "<matplotlib.figure.Figure at 0x10a1772d0>"
       ]
      }
     ],
     "prompt_number": 51
    },
    {
     "cell_type": "code",
     "collapsed": false,
     "input": [],
     "language": "python",
     "metadata": {},
     "outputs": [],
     "prompt_number": 49
    },
    {
     "cell_type": "code",
     "collapsed": false,
     "input": [],
     "language": "python",
     "metadata": {},
     "outputs": [],
     "prompt_number": 49
    },
    {
     "cell_type": "code",
     "collapsed": false,
     "input": [],
     "language": "python",
     "metadata": {},
     "outputs": []
    }
   ],
   "metadata": {}
  }
 ]
}