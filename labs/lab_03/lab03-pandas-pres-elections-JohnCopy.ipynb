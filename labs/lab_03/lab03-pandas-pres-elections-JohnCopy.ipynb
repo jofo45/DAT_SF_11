{
 "metadata": {
  "name": "",
  "signature": "sha256:ad72e5616f3e460ef952e0010878a8ed52eb34947051768aac9ad3c9a3ddd72c"
 },
 "nbformat": 3,
 "nbformat_minor": 0,
 "worksheets": [
  {
   "cells": [
    {
     "cell_type": "code",
     "collapsed": false,
     "input": [
      "# Standard imports for data analysis packages in Python\n",
      "import pandas as pd\n",
      "import numpy as np\n",
      "import seaborn as sns\n",
      "import matplotlib.pyplot as plt\n",
      "\n",
      "# This enables inline Plots\n",
      "%matplotlib inline\n",
      "\n",
      "# Limit rows displayed in notebook\n",
      "pd.set_option('display.max_rows', 10)\n",
      "pd.set_option('display.precision', 2)"
     ],
     "language": "python",
     "metadata": {},
     "outputs": [],
     "prompt_number": 1
    },
    {
     "cell_type": "code",
     "collapsed": false,
     "input": [
      "# Let's explore Presidential Elections Dataset\n",
      "\n",
      "pres_2004 = pd.read_csv('../data/us_pres_elections/2004_election_results.csv')"
     ],
     "language": "python",
     "metadata": {},
     "outputs": [],
     "prompt_number": 2
    },
    {
     "cell_type": "code",
     "collapsed": false,
     "input": [
      "# Look at first 5 rows\n",
      "pres_2004"
     ],
     "language": "python",
     "metadata": {},
     "outputs": [
      {
       "html": [
        "<div style=\"max-height:1000px;max-width:1500px;overflow:auto;\">\n",
        "<table border=\"1\" class=\"dataframe\">\n",
        "  <thead>\n",
        "    <tr style=\"text-align: right;\">\n",
        "      <th></th>\n",
        "      <th>STATE</th>\n",
        "      <th> Bush</th>\n",
        "      <th>Kerry</th>\n",
        "      <th>All Others</th>\n",
        "      <th>Total Vote</th>\n",
        "    </tr>\n",
        "  </thead>\n",
        "  <tbody>\n",
        "    <tr>\n",
        "      <th>0 </th>\n",
        "      <td> AL</td>\n",
        "      <td> 1,176,394</td>\n",
        "      <td>   693,933</td>\n",
        "      <td>  13,122</td>\n",
        "      <td>  1,883,449</td>\n",
        "    </tr>\n",
        "    <tr>\n",
        "      <th>1 </th>\n",
        "      <td> AK</td>\n",
        "      <td>   190,889</td>\n",
        "      <td>   111,025</td>\n",
        "      <td>  10,684</td>\n",
        "      <td>    312,598</td>\n",
        "    </tr>\n",
        "    <tr>\n",
        "      <th>2 </th>\n",
        "      <td> AZ</td>\n",
        "      <td> 1,104,294</td>\n",
        "      <td>   893,524</td>\n",
        "      <td>  14,767</td>\n",
        "      <td>  2,012,585</td>\n",
        "    </tr>\n",
        "    <tr>\n",
        "      <th>3 </th>\n",
        "      <td> AR</td>\n",
        "      <td>   572,898</td>\n",
        "      <td>   469,953</td>\n",
        "      <td>  12,094</td>\n",
        "      <td>  1,054,945</td>\n",
        "    </tr>\n",
        "    <tr>\n",
        "      <th>4 </th>\n",
        "      <td> CA</td>\n",
        "      <td> 5,509,826</td>\n",
        "      <td> 6,745,485</td>\n",
        "      <td> 166,541</td>\n",
        "      <td> 12,421,852</td>\n",
        "    </tr>\n",
        "    <tr>\n",
        "      <th>...</th>\n",
        "      <td>...</td>\n",
        "      <td>...</td>\n",
        "      <td>...</td>\n",
        "      <td>...</td>\n",
        "      <td>...</td>\n",
        "    </tr>\n",
        "    <tr>\n",
        "      <th>46</th>\n",
        "      <td> VA</td>\n",
        "      <td> 1,716,959</td>\n",
        "      <td> 1,454,742</td>\n",
        "      <td>  26,666</td>\n",
        "      <td>  3,198,367</td>\n",
        "    </tr>\n",
        "    <tr>\n",
        "      <th>47</th>\n",
        "      <td> WA</td>\n",
        "      <td> 1,304,894</td>\n",
        "      <td> 1,510,201</td>\n",
        "      <td>  43,989</td>\n",
        "      <td>  2,859,084</td>\n",
        "    </tr>\n",
        "    <tr>\n",
        "      <th>48</th>\n",
        "      <td> WV</td>\n",
        "      <td>   423,778</td>\n",
        "      <td>   326,541</td>\n",
        "      <td>   5,568</td>\n",
        "      <td>    755,887</td>\n",
        "    </tr>\n",
        "    <tr>\n",
        "      <th>49</th>\n",
        "      <td> WI</td>\n",
        "      <td> 1,478,120</td>\n",
        "      <td> 1,489,504</td>\n",
        "      <td>  29,383</td>\n",
        "      <td>  2,997,007</td>\n",
        "    </tr>\n",
        "    <tr>\n",
        "      <th>50</th>\n",
        "      <td> WY</td>\n",
        "      <td>   167,629</td>\n",
        "      <td>    70,776</td>\n",
        "      <td>   5,023</td>\n",
        "      <td>    243,428</td>\n",
        "    </tr>\n",
        "  </tbody>\n",
        "</table>\n",
        "<p>51 rows \u00d7 5 columns</p>\n",
        "</div>"
       ],
       "metadata": {},
       "output_type": "pyout",
       "prompt_number": 3,
       "text": [
        "   STATE       Bush      Kerry All Others  Total Vote\n",
        "0     AL  1,176,394    693,933     13,122   1,883,449\n",
        "1     AK    190,889    111,025     10,684     312,598\n",
        "2     AZ  1,104,294    893,524     14,767   2,012,585\n",
        "3     AR    572,898    469,953     12,094   1,054,945\n",
        "4     CA  5,509,826  6,745,485    166,541  12,421,852\n",
        "..   ...        ...        ...        ...         ...\n",
        "46    VA  1,716,959  1,454,742     26,666   3,198,367\n",
        "47    WA  1,304,894  1,510,201     43,989   2,859,084\n",
        "48    WV    423,778    326,541      5,568     755,887\n",
        "49    WI  1,478,120  1,489,504     29,383   2,997,007\n",
        "50    WY    167,629     70,776      5,023     243,428\n",
        "\n",
        "[51 rows x 5 columns]"
       ]
      }
     ],
     "prompt_number": 3
    },
    {
     "cell_type": "code",
     "collapsed": false,
     "input": [
      "# last 5 rows\n",
      "pres_2004.tail()"
     ],
     "language": "python",
     "metadata": {},
     "outputs": [
      {
       "html": [
        "<div style=\"max-height:1000px;max-width:1500px;overflow:auto;\">\n",
        "<table border=\"1\" class=\"dataframe\">\n",
        "  <thead>\n",
        "    <tr style=\"text-align: right;\">\n",
        "      <th></th>\n",
        "      <th>STATE</th>\n",
        "      <th> Bush</th>\n",
        "      <th>Kerry</th>\n",
        "      <th>All Others</th>\n",
        "      <th>Total Vote</th>\n",
        "    </tr>\n",
        "  </thead>\n",
        "  <tbody>\n",
        "    <tr>\n",
        "      <th>46</th>\n",
        "      <td> VA</td>\n",
        "      <td> 1,716,959</td>\n",
        "      <td> 1,454,742</td>\n",
        "      <td> 26,666</td>\n",
        "      <td> 3,198,367</td>\n",
        "    </tr>\n",
        "    <tr>\n",
        "      <th>47</th>\n",
        "      <td> WA</td>\n",
        "      <td> 1,304,894</td>\n",
        "      <td> 1,510,201</td>\n",
        "      <td> 43,989</td>\n",
        "      <td> 2,859,084</td>\n",
        "    </tr>\n",
        "    <tr>\n",
        "      <th>48</th>\n",
        "      <td> WV</td>\n",
        "      <td>   423,778</td>\n",
        "      <td>   326,541</td>\n",
        "      <td>  5,568</td>\n",
        "      <td>   755,887</td>\n",
        "    </tr>\n",
        "    <tr>\n",
        "      <th>49</th>\n",
        "      <td> WI</td>\n",
        "      <td> 1,478,120</td>\n",
        "      <td> 1,489,504</td>\n",
        "      <td> 29,383</td>\n",
        "      <td> 2,997,007</td>\n",
        "    </tr>\n",
        "    <tr>\n",
        "      <th>50</th>\n",
        "      <td> WY</td>\n",
        "      <td>   167,629</td>\n",
        "      <td>    70,776</td>\n",
        "      <td>  5,023</td>\n",
        "      <td>   243,428</td>\n",
        "    </tr>\n",
        "  </tbody>\n",
        "</table>\n",
        "</div>"
       ],
       "metadata": {},
       "output_type": "pyout",
       "prompt_number": 5,
       "text": [
        "   STATE       Bush      Kerry All Others Total Vote\n",
        "46    VA  1,716,959  1,454,742     26,666  3,198,367\n",
        "47    WA  1,304,894  1,510,201     43,989  2,859,084\n",
        "48    WV    423,778    326,541      5,568    755,887\n",
        "49    WI  1,478,120  1,489,504     29,383  2,997,007\n",
        "50    WY    167,629     70,776      5,023    243,428"
       ]
      }
     ],
     "prompt_number": 5
    },
    {
     "cell_type": "code",
     "collapsed": false,
     "input": [
      "# do a Info to look at datatypes\n",
      "# Do you see any missing data?\n",
      "\n",
      "pres_2004.info()\n"
     ],
     "language": "python",
     "metadata": {},
     "outputs": [
      {
       "output_type": "stream",
       "stream": "stdout",
       "text": [
        "<class 'pandas.core.frame.DataFrame'>\n",
        "Int64Index: 51 entries, 0 to 50\n",
        "Data columns (total 5 columns):\n",
        "STATE         51 non-null object\n",
        "Bush          51 non-null object\n",
        "Kerry         51 non-null object\n",
        "All Others    51 non-null object\n",
        "Total Vote    51 non-null object\n",
        "dtypes: object(5)"
       ]
      }
     ],
     "prompt_number": 16
    },
    {
     "cell_type": "code",
     "collapsed": false,
     "input": [
      "pres_2004.columns"
     ],
     "language": "python",
     "metadata": {},
     "outputs": [
      {
       "metadata": {},
       "output_type": "pyout",
       "prompt_number": 52,
       "text": [
        "Index([u'STATE', u' Bush', u'Kerry', u'All Others', u'Total Vote'], dtype='object')"
       ]
      }
     ],
     "prompt_number": 52
    },
    {
     "cell_type": "code",
     "collapsed": false,
     "input": [
      "# Notice that 'Bush' has a space in the front.\n",
      "# Replace column name ' Bush' with 'Bush'\n",
      "\n",
      "## Your Turn\n",
      "\n",
      "pres_2004.rename(columns={' Bush': 'Bush'}, inplace=True)"
     ],
     "language": "python",
     "metadata": {},
     "outputs": [],
     "prompt_number": 8
    },
    {
     "cell_type": "code",
     "collapsed": false,
     "input": [
      "pres_2004.columns"
     ],
     "language": "python",
     "metadata": {},
     "outputs": [
      {
       "metadata": {},
       "output_type": "pyout",
       "prompt_number": 9,
       "text": [
        "Index([u'STATE', u'Bush', u'Kerry', u'All Others', u'Total Vote'], dtype='object')"
       ]
      }
     ],
     "prompt_number": 9
    },
    {
     "cell_type": "code",
     "collapsed": false,
     "input": [
      "# Let's convert the string value for votes into numbers\n",
      "# Here's a sample - pres_2004.Kerry.map(lambda x: x.strip().replace(',', '')).astype(int)\n",
      "\n",
      "# Do this for Bush, Kerry, All Others, Total Votes\n",
      "\n",
      "\n",
      "pres_2004['Kerry'] = pres_2004.Kerry.map(lambda x: x.strip().replace(',', '')).astype(int)\n",
      "pres_2004['Bush'] = pres_2004.Bush.map(lambda x: x.strip().replace(',', '')).astype(int)\n",
      "pres_2004['All Others'] = pres_2004['All Others'].map(lambda x: x.strip().replace(',', '')).astype(int)\n",
      "pres_2004['Total Vote'] = pres_2004['Total Vote'].map(lambda x: x.strip().replace(',', '')).astype(int)\n",
      "\n",
      "#after this is done once, it will no longer work, b/c there is nothing left to strip from the code.\n"
     ],
     "language": "python",
     "metadata": {},
     "outputs": [
      {
       "ename": "AttributeError",
       "evalue": "'numpy.int64' object has no attribute 'strip'",
       "output_type": "pyerr",
       "traceback": [
        "\u001b[0;31m---------------------------------------------------------------------------\u001b[0m\n\u001b[0;31mAttributeError\u001b[0m                            Traceback (most recent call last)",
        "\u001b[0;32m<ipython-input-27-945893a49b9d>\u001b[0m in \u001b[0;36m<module>\u001b[0;34m()\u001b[0m\n\u001b[1;32m      6\u001b[0m \u001b[0;31m#pres_2004['Bush'] = pres_2004.Bush.map(lambda x: x.strip().replace(',', '')).astype(int)\u001b[0m\u001b[0;34m\u001b[0m\u001b[0;34m\u001b[0m\u001b[0m\n\u001b[1;32m      7\u001b[0m \u001b[0;31m#pres_2004['All Others'] = pres_2004['All Others'].map(lambda x: x.strip().replace(',', '')).astype(int)\u001b[0m\u001b[0;34m\u001b[0m\u001b[0;34m\u001b[0m\u001b[0m\n\u001b[0;32m----> 8\u001b[0;31m \u001b[0mpres_2004\u001b[0m\u001b[0;34m[\u001b[0m\u001b[0;34m'Total Vote'\u001b[0m\u001b[0;34m]\u001b[0m \u001b[0;34m=\u001b[0m \u001b[0mpres_2004\u001b[0m\u001b[0;34m[\u001b[0m\u001b[0;34m'Total Vote'\u001b[0m\u001b[0;34m]\u001b[0m\u001b[0;34m.\u001b[0m\u001b[0mmap\u001b[0m\u001b[0;34m(\u001b[0m\u001b[0;32mlambda\u001b[0m \u001b[0mx\u001b[0m\u001b[0;34m:\u001b[0m \u001b[0mx\u001b[0m\u001b[0;34m.\u001b[0m\u001b[0mstrip\u001b[0m\u001b[0;34m(\u001b[0m\u001b[0;34m)\u001b[0m\u001b[0;34m.\u001b[0m\u001b[0mreplace\u001b[0m\u001b[0;34m(\u001b[0m\u001b[0;34m','\u001b[0m\u001b[0;34m,\u001b[0m \u001b[0;34m''\u001b[0m\u001b[0;34m)\u001b[0m\u001b[0;34m)\u001b[0m\u001b[0;34m.\u001b[0m\u001b[0mastype\u001b[0m\u001b[0;34m(\u001b[0m\u001b[0mint\u001b[0m\u001b[0;34m)\u001b[0m\u001b[0;34m\u001b[0m\u001b[0m\n\u001b[0m",
        "\u001b[0;32m/Users/johnfohr/anaconda/lib/python2.7/site-packages/pandas/core/series.pyc\u001b[0m in \u001b[0;36mmap\u001b[0;34m(self, arg, na_action)\u001b[0m\n\u001b[1;32m   1953\u001b[0m                                      index=self.index).__finalize__(self)\n\u001b[1;32m   1954\u001b[0m         \u001b[0;32melse\u001b[0m\u001b[0;34m:\u001b[0m\u001b[0;34m\u001b[0m\u001b[0m\n\u001b[0;32m-> 1955\u001b[0;31m             \u001b[0mmapped\u001b[0m \u001b[0;34m=\u001b[0m \u001b[0mmap_f\u001b[0m\u001b[0;34m(\u001b[0m\u001b[0mvalues\u001b[0m\u001b[0;34m,\u001b[0m \u001b[0marg\u001b[0m\u001b[0;34m)\u001b[0m\u001b[0;34m\u001b[0m\u001b[0m\n\u001b[0m\u001b[1;32m   1956\u001b[0m             return self._constructor(mapped,\n\u001b[1;32m   1957\u001b[0m                                      index=self.index).__finalize__(self)\n",
        "\u001b[0;32m/Users/johnfohr/anaconda/lib/python2.7/site-packages/pandas/lib.so\u001b[0m in \u001b[0;36mpandas.lib.map_infer (pandas/lib.c:53184)\u001b[0;34m()\u001b[0m\n",
        "\u001b[0;32m<ipython-input-27-945893a49b9d>\u001b[0m in \u001b[0;36m<lambda>\u001b[0;34m(x)\u001b[0m\n\u001b[1;32m      6\u001b[0m \u001b[0;31m#pres_2004['Bush'] = pres_2004.Bush.map(lambda x: x.strip().replace(',', '')).astype(int)\u001b[0m\u001b[0;34m\u001b[0m\u001b[0;34m\u001b[0m\u001b[0m\n\u001b[1;32m      7\u001b[0m \u001b[0;31m#pres_2004['All Others'] = pres_2004['All Others'].map(lambda x: x.strip().replace(',', '')).astype(int)\u001b[0m\u001b[0;34m\u001b[0m\u001b[0;34m\u001b[0m\u001b[0m\n\u001b[0;32m----> 8\u001b[0;31m \u001b[0mpres_2004\u001b[0m\u001b[0;34m[\u001b[0m\u001b[0;34m'Total Vote'\u001b[0m\u001b[0;34m]\u001b[0m \u001b[0;34m=\u001b[0m \u001b[0mpres_2004\u001b[0m\u001b[0;34m[\u001b[0m\u001b[0;34m'Total Vote'\u001b[0m\u001b[0;34m]\u001b[0m\u001b[0;34m.\u001b[0m\u001b[0mmap\u001b[0m\u001b[0;34m(\u001b[0m\u001b[0;32mlambda\u001b[0m \u001b[0mx\u001b[0m\u001b[0;34m:\u001b[0m \u001b[0mx\u001b[0m\u001b[0;34m.\u001b[0m\u001b[0mstrip\u001b[0m\u001b[0;34m(\u001b[0m\u001b[0;34m)\u001b[0m\u001b[0;34m.\u001b[0m\u001b[0mreplace\u001b[0m\u001b[0;34m(\u001b[0m\u001b[0;34m','\u001b[0m\u001b[0;34m,\u001b[0m \u001b[0;34m''\u001b[0m\u001b[0;34m)\u001b[0m\u001b[0;34m)\u001b[0m\u001b[0;34m.\u001b[0m\u001b[0mastype\u001b[0m\u001b[0;34m(\u001b[0m\u001b[0mint\u001b[0m\u001b[0;34m)\u001b[0m\u001b[0;34m\u001b[0m\u001b[0m\n\u001b[0m",
        "\u001b[0;31mAttributeError\u001b[0m: 'numpy.int64' object has no attribute 'strip'"
       ]
      }
     ],
     "prompt_number": 27
    },
    {
     "cell_type": "code",
     "collapsed": false,
     "input": [
      "pres_2004.Kerry\n"
     ],
     "language": "python",
     "metadata": {},
     "outputs": [
      {
       "metadata": {},
       "output_type": "pyout",
       "prompt_number": 28,
       "text": [
        "0    693933\n",
        "1    111025\n",
        "2    893524\n",
        "...\n",
        "48     326541\n",
        "49    1489504\n",
        "50      70776\n",
        "Name: Kerry, Length: 51, dtype: int64"
       ]
      }
     ],
     "prompt_number": 28
    },
    {
     "cell_type": "code",
     "collapsed": false,
     "input": [
      "# OK Now, read the \"electoral_votes_by_state.csv\" Dataset.  What do you see\n",
      "# Call it electoral_votes\n",
      "electoral_votes = pd.read_csv('../data/us_pres_elections/electoral_votes_by_state.csv')"
     ],
     "language": "python",
     "metadata": {},
     "outputs": [],
     "prompt_number": 29
    },
    {
     "cell_type": "code",
     "collapsed": false,
     "input": [
      "electoral_votes.info()"
     ],
     "language": "python",
     "metadata": {},
     "outputs": [
      {
       "output_type": "stream",
       "stream": "stdout",
       "text": [
        "<class 'pandas.core.frame.DataFrame'>\n",
        "Int64Index: 51 entries, 0 to 50\n",
        "Data columns (total 2 columns):\n",
        "STATE              51 non-null object\n",
        "Electoral Votes    51 non-null int64\n",
        "dtypes: int64(1), object(1)"
       ]
      }
     ],
     "prompt_number": 30
    },
    {
     "cell_type": "markdown",
     "metadata": {},
     "source": [
      "### Merge Electoral votes with pres_2004 to see who won and by how many electoral votes\n",
      "\n",
      "* Merge vs Join"
     ]
    },
    {
     "cell_type": "code",
     "collapsed": false,
     "input": [
      "pres_2004 = pres_2004.merge(electoral_votes)\n",
      "\n"
     ],
     "language": "python",
     "metadata": {},
     "outputs": [],
     "prompt_number": 35
    },
    {
     "cell_type": "code",
     "collapsed": false,
     "input": [
      "# Award the electoral Votes to the candidate that had the most votes in the stae\n",
      "# How much did Kerry and Bush get?\n",
      "\n",
      "\n",
      "pres_2004['Bush Votes'] = 0\n",
      "pres_2004['Kerry Votes'] = 0\n",
      "bush_mask = pres_2004['Bush'] > pres_2004['Kerry']\n",
      "pres_2004.ix[bush_mask, 'Bush Votes'] = pres_2004.ix[bush_mask, 'Electoral Votes']\n",
      "pres_2004.ix[~bush_mask, 'Kerry Votes'] = pres_2004.ix[~bush_mask, 'Electoral Votes']\n",
      "\n",
      "\n",
      "\n",
      "\n",
      "\n",
      "\n"
     ],
     "language": "python",
     "metadata": {},
     "outputs": [],
     "prompt_number": 36
    },
    {
     "cell_type": "code",
     "collapsed": false,
     "input": [
      "# Now add a NEW Column and set it to 2004.  We are going to merge files later\n",
      "pres_2004['year'] = 2004"
     ],
     "language": "python",
     "metadata": {},
     "outputs": [],
     "prompt_number": 44
    },
    {
     "cell_type": "code",
     "collapsed": false,
     "input": [
      "pres_2004.head()"
     ],
     "language": "python",
     "metadata": {},
     "outputs": [
      {
       "html": [
        "<div style=\"max-height:1000px;max-width:1500px;overflow:auto;\">\n",
        "<table border=\"1\" class=\"dataframe\">\n",
        "  <thead>\n",
        "    <tr style=\"text-align: right;\">\n",
        "      <th></th>\n",
        "      <th>STATE</th>\n",
        "      <th>Bush</th>\n",
        "      <th>Kerry</th>\n",
        "      <th>All Others</th>\n",
        "      <th>Total Vote</th>\n",
        "      <th>Bush Votes</th>\n",
        "      <th>Kerry Votes</th>\n",
        "      <th>Electoral Votes</th>\n",
        "      <th>year</th>\n",
        "    </tr>\n",
        "  </thead>\n",
        "  <tbody>\n",
        "    <tr>\n",
        "      <th>0</th>\n",
        "      <td> AL</td>\n",
        "      <td> 1176394</td>\n",
        "      <td>  693933</td>\n",
        "      <td>  13122</td>\n",
        "      <td>  1883449</td>\n",
        "      <td>  9</td>\n",
        "      <td>  0</td>\n",
        "      <td>  9</td>\n",
        "      <td> 2004</td>\n",
        "    </tr>\n",
        "    <tr>\n",
        "      <th>1</th>\n",
        "      <td> AK</td>\n",
        "      <td>  190889</td>\n",
        "      <td>  111025</td>\n",
        "      <td>  10684</td>\n",
        "      <td>   312598</td>\n",
        "      <td>  3</td>\n",
        "      <td>  0</td>\n",
        "      <td>  3</td>\n",
        "      <td> 2004</td>\n",
        "    </tr>\n",
        "    <tr>\n",
        "      <th>2</th>\n",
        "      <td> AZ</td>\n",
        "      <td> 1104294</td>\n",
        "      <td>  893524</td>\n",
        "      <td>  14767</td>\n",
        "      <td>  2012585</td>\n",
        "      <td> 10</td>\n",
        "      <td>  0</td>\n",
        "      <td> 10</td>\n",
        "      <td> 2004</td>\n",
        "    </tr>\n",
        "    <tr>\n",
        "      <th>3</th>\n",
        "      <td> AR</td>\n",
        "      <td>  572898</td>\n",
        "      <td>  469953</td>\n",
        "      <td>  12094</td>\n",
        "      <td>  1054945</td>\n",
        "      <td>  6</td>\n",
        "      <td>  0</td>\n",
        "      <td>  6</td>\n",
        "      <td> 2004</td>\n",
        "    </tr>\n",
        "    <tr>\n",
        "      <th>4</th>\n",
        "      <td> CA</td>\n",
        "      <td> 5509826</td>\n",
        "      <td> 6745485</td>\n",
        "      <td> 166541</td>\n",
        "      <td> 12421852</td>\n",
        "      <td>  0</td>\n",
        "      <td> 55</td>\n",
        "      <td> 55</td>\n",
        "      <td> 2004</td>\n",
        "    </tr>\n",
        "  </tbody>\n",
        "</table>\n",
        "</div>"
       ],
       "metadata": {},
       "output_type": "pyout",
       "prompt_number": 47,
       "text": [
        "  STATE     Bush    Kerry  All Others  Total Vote  Bush Votes  Kerry Votes  \\\n",
        "0    AL  1176394   693933       13122     1883449           9            0   \n",
        "1    AK   190889   111025       10684      312598           3            0   \n",
        "2    AZ  1104294   893524       14767     2012585          10            0   \n",
        "3    AR   572898   469953       12094     1054945           6            0   \n",
        "4    CA  5509826  6745485      166541    12421852           0           55   \n",
        "\n",
        "   Electoral Votes  year  \n",
        "0                9  2004  \n",
        "1                3  2004  \n",
        "2               10  2004  \n",
        "3                6  2004  \n",
        "4               55  2004  "
       ]
      }
     ],
     "prompt_number": 47
    },
    {
     "cell_type": "markdown",
     "metadata": {},
     "source": [
      "### Read in 2008 and Append the rows of 2008 with 2004"
     ]
    },
    {
     "cell_type": "code",
     "collapsed": false,
     "input": [
      "pres_2008 = pd.read_csv('../data/us_pres_elections/2008_election_results.csv')"
     ],
     "language": "python",
     "metadata": {},
     "outputs": [],
     "prompt_number": 48
    },
    {
     "cell_type": "code",
     "collapsed": false,
     "input": [
      "pres_2008.columns\n",
      "pres_2008.head()\n"
     ],
     "language": "python",
     "metadata": {},
     "outputs": [
      {
       "html": [
        "<div style=\"max-height:1000px;max-width:1500px;overflow:auto;\">\n",
        "<table border=\"1\" class=\"dataframe\">\n",
        "  <thead>\n",
        "    <tr style=\"text-align: right;\">\n",
        "      <th></th>\n",
        "      <th>State</th>\n",
        "      <th>Obama</th>\n",
        "      <th>McCain</th>\n",
        "      <th>All Others</th>\n",
        "      <th>Total Vote</th>\n",
        "    </tr>\n",
        "  </thead>\n",
        "  <tbody>\n",
        "    <tr>\n",
        "      <th>0</th>\n",
        "      <td> AL</td>\n",
        "      <td>  813479</td>\n",
        "      <td> 1266546</td>\n",
        "      <td>  19794</td>\n",
        "      <td>  2099819</td>\n",
        "    </tr>\n",
        "    <tr>\n",
        "      <th>1</th>\n",
        "      <td> AK</td>\n",
        "      <td>  123594</td>\n",
        "      <td>  193841</td>\n",
        "      <td>   8762</td>\n",
        "      <td>   326197</td>\n",
        "    </tr>\n",
        "    <tr>\n",
        "      <th>2</th>\n",
        "      <td> AZ</td>\n",
        "      <td> 1034707</td>\n",
        "      <td> 1230111</td>\n",
        "      <td>  28657</td>\n",
        "      <td>  2293475</td>\n",
        "    </tr>\n",
        "    <tr>\n",
        "      <th>3</th>\n",
        "      <td> AR</td>\n",
        "      <td>  422310</td>\n",
        "      <td>  638017</td>\n",
        "      <td>  26290</td>\n",
        "      <td>  1086617</td>\n",
        "    </tr>\n",
        "    <tr>\n",
        "      <th>4</th>\n",
        "      <td> CA</td>\n",
        "      <td> 8274473</td>\n",
        "      <td> 5011781</td>\n",
        "      <td> 275646</td>\n",
        "      <td> 13561900</td>\n",
        "    </tr>\n",
        "  </tbody>\n",
        "</table>\n",
        "</div>"
       ],
       "metadata": {},
       "output_type": "pyout",
       "prompt_number": 55,
       "text": [
        "  State    Obama   McCain  All Others  Total Vote\n",
        "0    AL   813479  1266546       19794     2099819\n",
        "1    AK   123594   193841        8762      326197\n",
        "2    AZ  1034707  1230111       28657     2293475\n",
        "3    AR   422310   638017       26290     1086617\n",
        "4    CA  8274473  5011781      275646    13561900"
       ]
      }
     ],
     "prompt_number": 55
    },
    {
     "cell_type": "code",
     "collapsed": false,
     "input": [
      "#the following does the same thing as we did amove to remove the commas in the numbers.\n",
      "\n",
      "\n",
      "\n",
      "for col in ['Obama', 'McCain', 'All Others', 'Total Vote']:\n",
      "    print col\n",
      "    pres_2008[col] = pres_2008[col].map(lambda x: x.strip().replace(',', '')).astype(int)\n"
     ],
     "language": "python",
     "metadata": {},
     "outputs": [
      {
       "output_type": "stream",
       "stream": "stdout",
       "text": [
        "Obama\n",
        "McCain\n",
        "All Others\n",
        "Total Vote\n"
       ]
      }
     ],
     "prompt_number": 54
    },
    {
     "cell_type": "code",
     "collapsed": false,
     "input": [
      "pres_2008.columns\n",
      "\n",
      "# your turn\n",
      "#pres_2004.merge(pres_2008)\n",
      "#pres_2004.head()\n"
     ],
     "language": "python",
     "metadata": {},
     "outputs": [
      {
       "metadata": {},
       "output_type": "pyout",
       "prompt_number": 65,
       "text": [
        "Index([u'State', u'Obama', u'McCain', u'All Others', u'Total Vote'], dtype='object')"
       ]
      }
     ],
     "prompt_number": 65
    },
    {
     "cell_type": "markdown",
     "metadata": {},
     "source": [
      "### Read in 2012 Election results too"
     ]
    },
    {
     "cell_type": "code",
     "collapsed": false,
     "input": [
      "pres_2008"
     ],
     "language": "python",
     "metadata": {},
     "outputs": [
      {
       "html": [
        "<div style=\"max-height:1000px;max-width:1500px;overflow:auto;\">\n",
        "<table border=\"1\" class=\"dataframe\">\n",
        "  <thead>\n",
        "    <tr style=\"text-align: right;\">\n",
        "      <th></th>\n",
        "      <th>State</th>\n",
        "      <th>Obama</th>\n",
        "      <th>McCain</th>\n",
        "      <th>All Others</th>\n",
        "      <th>Total Vote</th>\n",
        "    </tr>\n",
        "  </thead>\n",
        "  <tbody>\n",
        "    <tr>\n",
        "      <th>0 </th>\n",
        "      <td> AL</td>\n",
        "      <td>  813479</td>\n",
        "      <td> 1266546</td>\n",
        "      <td>  19794</td>\n",
        "      <td>  2099819</td>\n",
        "    </tr>\n",
        "    <tr>\n",
        "      <th>1 </th>\n",
        "      <td> AK</td>\n",
        "      <td>  123594</td>\n",
        "      <td>  193841</td>\n",
        "      <td>   8762</td>\n",
        "      <td>   326197</td>\n",
        "    </tr>\n",
        "    <tr>\n",
        "      <th>2 </th>\n",
        "      <td> AZ</td>\n",
        "      <td> 1034707</td>\n",
        "      <td> 1230111</td>\n",
        "      <td>  28657</td>\n",
        "      <td>  2293475</td>\n",
        "    </tr>\n",
        "    <tr>\n",
        "      <th>3 </th>\n",
        "      <td> AR</td>\n",
        "      <td>  422310</td>\n",
        "      <td>  638017</td>\n",
        "      <td>  26290</td>\n",
        "      <td>  1086617</td>\n",
        "    </tr>\n",
        "    <tr>\n",
        "      <th>4 </th>\n",
        "      <td> CA</td>\n",
        "      <td> 8274473</td>\n",
        "      <td> 5011781</td>\n",
        "      <td> 275646</td>\n",
        "      <td> 13561900</td>\n",
        "    </tr>\n",
        "    <tr>\n",
        "      <th>...</th>\n",
        "      <td>...</td>\n",
        "      <td>...</td>\n",
        "      <td>...</td>\n",
        "      <td>...</td>\n",
        "      <td>...</td>\n",
        "    </tr>\n",
        "    <tr>\n",
        "      <th>46</th>\n",
        "      <td> VA</td>\n",
        "      <td> 1959532</td>\n",
        "      <td> 1725005</td>\n",
        "      <td>  38723</td>\n",
        "      <td>  3723260</td>\n",
        "    </tr>\n",
        "    <tr>\n",
        "      <th>47</th>\n",
        "      <td> WA</td>\n",
        "      <td> 1750848</td>\n",
        "      <td> 1229216</td>\n",
        "      <td>  56814</td>\n",
        "      <td>  3036878</td>\n",
        "    </tr>\n",
        "    <tr>\n",
        "      <th>48</th>\n",
        "      <td> WV</td>\n",
        "      <td>  303857</td>\n",
        "      <td>  397466</td>\n",
        "      <td>  12128</td>\n",
        "      <td>   713451</td>\n",
        "    </tr>\n",
        "    <tr>\n",
        "      <th>49</th>\n",
        "      <td> WI</td>\n",
        "      <td> 1677211</td>\n",
        "      <td> 1262393</td>\n",
        "      <td>  43813</td>\n",
        "      <td>  2983417</td>\n",
        "    </tr>\n",
        "    <tr>\n",
        "      <th>50</th>\n",
        "      <td> WY</td>\n",
        "      <td>   82868</td>\n",
        "      <td>  164958</td>\n",
        "      <td>   6832</td>\n",
        "      <td>   254658</td>\n",
        "    </tr>\n",
        "  </tbody>\n",
        "</table>\n",
        "<p>51 rows \u00d7 5 columns</p>\n",
        "</div>"
       ],
       "metadata": {},
       "output_type": "pyout",
       "prompt_number": 60,
       "text": [
        "   State    Obama   McCain  All Others  Total Vote\n",
        "0     AL   813479  1266546       19794     2099819\n",
        "1     AK   123594   193841        8762      326197\n",
        "2     AZ  1034707  1230111       28657     2293475\n",
        "3     AR   422310   638017       26290     1086617\n",
        "4     CA  8274473  5011781      275646    13561900\n",
        "..   ...      ...      ...         ...         ...\n",
        "46    VA  1959532  1725005       38723     3723260\n",
        "47    WA  1750848  1229216       56814     3036878\n",
        "48    WV   303857   397466       12128      713451\n",
        "49    WI  1677211  1262393       43813     2983417\n",
        "50    WY    82868   164958        6832      254658\n",
        "\n",
        "[51 rows x 5 columns]"
       ]
      }
     ],
     "prompt_number": 60
    },
    {
     "cell_type": "code",
     "collapsed": false,
     "input": [],
     "language": "python",
     "metadata": {},
     "outputs": [],
     "prompt_number": 88
    },
    {
     "cell_type": "markdown",
     "metadata": {},
     "source": [
      "### Create a new data frame to classify each of the presidential candidates in 2004, 2008 and 2012 as Democrat or Republican"
     ]
    },
    {
     "cell_type": "code",
     "collapsed": false,
     "input": [
      "# Your Turn"
     ],
     "language": "python",
     "metadata": {},
     "outputs": [],
     "prompt_number": 89
    },
    {
     "cell_type": "code",
     "collapsed": false,
     "input": [],
     "language": "python",
     "metadata": {},
     "outputs": [],
     "prompt_number": 89
    },
    {
     "cell_type": "markdown",
     "metadata": {},
     "source": [
      "### Now, can you give electoral vote counts for the three elections (04, 08, 12) by Party Afiliation"
     ]
    },
    {
     "cell_type": "code",
     "collapsed": false,
     "input": [
      "# your turn"
     ],
     "language": "python",
     "metadata": {},
     "outputs": [],
     "prompt_number": 90
    },
    {
     "cell_type": "code",
     "collapsed": false,
     "input": [],
     "language": "python",
     "metadata": {},
     "outputs": [],
     "prompt_number": 90
    },
    {
     "cell_type": "markdown",
     "metadata": {},
     "source": [
      "### What States are safely Republican or Democratic."
     ]
    },
    {
     "cell_type": "code",
     "collapsed": false,
     "input": [
      "# Your Turn"
     ],
     "language": "python",
     "metadata": {},
     "outputs": [],
     "prompt_number": 91
    },
    {
     "cell_type": "code",
     "collapsed": false,
     "input": [],
     "language": "python",
     "metadata": {},
     "outputs": [],
     "prompt_number": 91
    },
    {
     "cell_type": "markdown",
     "metadata": {},
     "source": [
      "### Challenge: What states decide the fate of elections?"
     ]
    },
    {
     "cell_type": "code",
     "collapsed": false,
     "input": [
      "# Your Turn"
     ],
     "language": "python",
     "metadata": {},
     "outputs": [],
     "prompt_number": 92
    },
    {
     "cell_type": "code",
     "collapsed": false,
     "input": [],
     "language": "python",
     "metadata": {},
     "outputs": []
    }
   ],
   "metadata": {}
  }
 ]
}