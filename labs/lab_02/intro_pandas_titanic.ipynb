{
 "metadata": {
  "name": "",
  "signature": "sha256:637320680203c9883e036d0adce04793bbbebc4a83fc61f2f9a804850fd45aae"
 },
 "nbformat": 3,
 "nbformat_minor": 0,
 "worksheets": [
  {
   "cells": [
    {
     "cell_type": "code",
     "collapsed": false,
     "input": [
      "# Install seaborn\n",
      "# If this line gives an error, go back to command prompt and run \"conda install pip\" and then try this step again\n",
      "!pip install seaborn"
     ],
     "language": "python",
     "metadata": {},
     "outputs": [
      {
       "output_type": "stream",
       "stream": "stdout",
       "text": [
        "Downloading/unpacking seaborn\r\n"
       ]
      },
      {
       "output_type": "stream",
       "stream": "stdout",
       "text": [
        "  Downloading seaborn-0.5.1.tar.gz (104kB): \r",
        "  Downloading seaborn-0.5.1.tar.gz (104kB):   3%  4.1kB\r",
        "  Downloading seaborn-0.5.1.tar.gz (104kB):   7%  8.2kB"
       ]
      },
      {
       "output_type": "stream",
       "stream": "stdout",
       "text": [
        "\r",
        "  Downloading seaborn-0.5.1.tar.gz (104kB):  11%  12kB \r",
        "  Downloading seaborn-0.5.1.tar.gz (104kB):  15%  16kB\r",
        "  Downloading seaborn-0.5.1.tar.gz (104kB):  19%  20kB\r",
        "  Downloading seaborn-0.5.1.tar.gz (104kB):  23%  24kB\r",
        "  Downloading seaborn-0.5.1.tar.gz (104kB):  27%  28kB"
       ]
      },
      {
       "output_type": "stream",
       "stream": "stdout",
       "text": [
        "\r",
        "  Downloading seaborn-0.5.1.tar.gz (104kB):  31%  32kB"
       ]
      },
      {
       "output_type": "stream",
       "stream": "stdout",
       "text": [
        "\r",
        "  Downloading seaborn-0.5.1.tar.gz (104kB):  35%  36kB\r",
        "  Downloading seaborn-0.5.1.tar.gz (104kB):  39%  40kB\r",
        "  Downloading seaborn-0.5.1.tar.gz (104kB):  43%  45kB\r",
        "  Downloading seaborn-0.5.1.tar.gz (104kB):  47%  49kB\r",
        "  Downloading seaborn-0.5.1.tar.gz (104kB):  50%  53kB"
       ]
      },
      {
       "output_type": "stream",
       "stream": "stdout",
       "text": [
        "\r",
        "  Downloading seaborn-0.5.1.tar.gz (104kB):  54%  57kB"
       ]
      },
      {
       "output_type": "stream",
       "stream": "stdout",
       "text": [
        "\r",
        "  Downloading seaborn-0.5.1.tar.gz (104kB):  58%  61kB"
       ]
      },
      {
       "output_type": "stream",
       "stream": "stdout",
       "text": [
        "\r",
        "  Downloading seaborn-0.5.1.tar.gz (104kB):  62%  65kB\r",
        "  Downloading seaborn-0.5.1.tar.gz (104kB):  66%  69kB\r",
        "  Downloading seaborn-0.5.1.tar.gz (104kB):  70%  73kB"
       ]
      },
      {
       "output_type": "stream",
       "stream": "stdout",
       "text": [
        "\r",
        "  Downloading seaborn-0.5.1.tar.gz (104kB):  74%  77kB\r",
        "  Downloading seaborn-0.5.1.tar.gz (104kB):  78%  81kB\r",
        "  Downloading seaborn-0.5.1.tar.gz (104kB):  82%  86kB\r",
        "  Downloading seaborn-0.5.1.tar.gz (104kB):  86%  90kB\r",
        "  Downloading seaborn-0.5.1.tar.gz (104kB):  90%  94kB"
       ]
      },
      {
       "output_type": "stream",
       "stream": "stdout",
       "text": [
        "\r",
        "  Downloading seaborn-0.5.1.tar.gz (104kB):  94%  98kB\r",
        "  Downloading seaborn-0.5.1.tar.gz (104kB):  98%  102kB\r",
        "  Downloading seaborn-0.5.1.tar.gz (104kB): 100%  104kB\r",
        "  Downloading seaborn-0.5.1.tar.gz (104kB):            \r",
        "  Downloading seaborn-0.5.1.tar.gz (104kB): 104kB downloaded\r\n"
       ]
      },
      {
       "output_type": "stream",
       "stream": "stdout",
       "text": [
        "  Running setup.py (path:/private/var/folders/ft/5fk1cdcj4m3ffk3sgjz409j80000gn/T/pip_build_johnfohr/seaborn/setup.py) egg_info for package seaborn\r\n"
       ]
      },
      {
       "output_type": "stream",
       "stream": "stdout",
       "text": [
        "    \r\n"
       ]
      },
      {
       "output_type": "stream",
       "stream": "stdout",
       "text": [
        "Installing collected packages: seaborn\r\n",
        "  Running setup.py install for seaborn\r\n"
       ]
      },
      {
       "output_type": "stream",
       "stream": "stdout",
       "text": [
        "    \r\n"
       ]
      },
      {
       "output_type": "stream",
       "stream": "stdout",
       "text": [
        "Successfully installed seaborn\r\n",
        "Cleaning up...\r\n"
       ]
      }
     ],
     "prompt_number": 1
    },
    {
     "cell_type": "code",
     "collapsed": false,
     "input": [
      "# Standard imports for data analysis packages in Python\n",
      "import pandas as pd\n",
      "import numpy as np\n",
      "import seaborn as sns\n",
      "import matplotlib.pyplot as plt\n",
      "from IPython.display import Image\n",
      "\n",
      "# This enables inline Plots\n",
      "%matplotlib inline\n",
      "\n",
      "# Limit rows displayed in notebook\n",
      "pd.set_option('display.max_rows', 10)\n",
      "pd.set_option('display.precision', 2)"
     ],
     "language": "python",
     "metadata": {},
     "outputs": [],
     "prompt_number": 2
    },
    {
     "cell_type": "code",
     "collapsed": false,
     "input": [
      "print 'Pandas Version: ', pd.__version__\n",
      "print 'Numpy Version: ', np.__version__"
     ],
     "language": "python",
     "metadata": {},
     "outputs": [
      {
       "output_type": "stream",
       "stream": "stdout",
       "text": [
        "Pandas Version:  0.14.1\n",
        "Numpy Version:  1.9.0\n"
       ]
      }
     ],
     "prompt_number": 3
    },
    {
     "cell_type": "markdown",
     "metadata": {},
     "source": [
      "# Pandas DataFrame\n",
      "\n",
      "Think of DataFrame as a Table with Columns.  This is the workhorse of everything you will do with data analysis.  Learning Pandas and its functions can be challenging, but stick with it and ask questions.\n",
      "\n",
      "Who uses Pandas - Almost everyone who uses Python for Data Analysis - Netflix, Airbnb, Uber, Meetup.com to name a few.\n",
      "\n"
     ]
    },
    {
     "cell_type": "markdown",
     "metadata": {},
     "source": [
      "Kaggle Titanic Dataset:\n",
      "=======================\n",
      "\n",
      "* Source: http://www.kaggle.com/c/titanic-gettingStarted/data"
     ]
    },
    {
     "cell_type": "code",
     "collapsed": false,
     "input": [
      "# Let's explore Titanic Dataset\n",
      "titanic = pd.read_csv('http://biostat.mc.vanderbilt.edu/wiki/pub/Main/DataSets/titanic3.csv')"
     ],
     "language": "python",
     "metadata": {},
     "outputs": [],
     "prompt_number": 4
    },
    {
     "cell_type": "code",
     "collapsed": false,
     "input": [
      "titanic.head(50)"
     ],
     "language": "python",
     "metadata": {},
     "outputs": [
      {
       "html": [
        "<div style=\"max-height:1000px;max-width:1500px;overflow:auto;\">\n",
        "<table border=\"1\" class=\"dataframe\">\n",
        "  <thead>\n",
        "    <tr style=\"text-align: right;\">\n",
        "      <th></th>\n",
        "      <th>pclass</th>\n",
        "      <th>survived</th>\n",
        "      <th>name</th>\n",
        "      <th>sex</th>\n",
        "      <th>age</th>\n",
        "      <th>sibsp</th>\n",
        "      <th>parch</th>\n",
        "      <th>ticket</th>\n",
        "      <th>fare</th>\n",
        "      <th>cabin</th>\n",
        "      <th>embarked</th>\n",
        "      <th>boat</th>\n",
        "      <th>body</th>\n",
        "      <th>home.dest</th>\n",
        "    </tr>\n",
        "  </thead>\n",
        "  <tbody>\n",
        "    <tr>\n",
        "      <th>0 </th>\n",
        "      <td> 1</td>\n",
        "      <td> 1</td>\n",
        "      <td>                    Allen, Miss. Elisabeth Walton</td>\n",
        "      <td> female</td>\n",
        "      <td> 29.0</td>\n",
        "      <td> 0</td>\n",
        "      <td> 0</td>\n",
        "      <td>    24160</td>\n",
        "      <td> 211.3</td>\n",
        "      <td>          B5</td>\n",
        "      <td> S</td>\n",
        "      <td>   2</td>\n",
        "      <td> NaN</td>\n",
        "      <td>                                   St Louis, MO</td>\n",
        "    </tr>\n",
        "    <tr>\n",
        "      <th>1 </th>\n",
        "      <td> 1</td>\n",
        "      <td> 1</td>\n",
        "      <td>                   Allison, Master. Hudson Trevor</td>\n",
        "      <td>   male</td>\n",
        "      <td>  0.9</td>\n",
        "      <td> 1</td>\n",
        "      <td> 2</td>\n",
        "      <td>   113781</td>\n",
        "      <td> 151.6</td>\n",
        "      <td>     C22 C26</td>\n",
        "      <td> S</td>\n",
        "      <td>  11</td>\n",
        "      <td> NaN</td>\n",
        "      <td>                Montreal, PQ / Chesterville, ON</td>\n",
        "    </tr>\n",
        "    <tr>\n",
        "      <th>2 </th>\n",
        "      <td> 1</td>\n",
        "      <td> 0</td>\n",
        "      <td>                     Allison, Miss. Helen Loraine</td>\n",
        "      <td> female</td>\n",
        "      <td>  2.0</td>\n",
        "      <td> 1</td>\n",
        "      <td> 2</td>\n",
        "      <td>   113781</td>\n",
        "      <td> 151.6</td>\n",
        "      <td>     C22 C26</td>\n",
        "      <td> S</td>\n",
        "      <td> NaN</td>\n",
        "      <td> NaN</td>\n",
        "      <td>                Montreal, PQ / Chesterville, ON</td>\n",
        "    </tr>\n",
        "    <tr>\n",
        "      <th>3 </th>\n",
        "      <td> 1</td>\n",
        "      <td> 0</td>\n",
        "      <td>             Allison, Mr. Hudson Joshua Creighton</td>\n",
        "      <td>   male</td>\n",
        "      <td> 30.0</td>\n",
        "      <td> 1</td>\n",
        "      <td> 2</td>\n",
        "      <td>   113781</td>\n",
        "      <td> 151.6</td>\n",
        "      <td>     C22 C26</td>\n",
        "      <td> S</td>\n",
        "      <td> NaN</td>\n",
        "      <td> 135</td>\n",
        "      <td>                Montreal, PQ / Chesterville, ON</td>\n",
        "    </tr>\n",
        "    <tr>\n",
        "      <th>4 </th>\n",
        "      <td> 1</td>\n",
        "      <td> 0</td>\n",
        "      <td>  Allison, Mrs. Hudson J C (Bessie Waldo Daniels)</td>\n",
        "      <td> female</td>\n",
        "      <td> 25.0</td>\n",
        "      <td> 1</td>\n",
        "      <td> 2</td>\n",
        "      <td>   113781</td>\n",
        "      <td> 151.6</td>\n",
        "      <td>     C22 C26</td>\n",
        "      <td> S</td>\n",
        "      <td> NaN</td>\n",
        "      <td> NaN</td>\n",
        "      <td>                Montreal, PQ / Chesterville, ON</td>\n",
        "    </tr>\n",
        "    <tr>\n",
        "      <th>...</th>\n",
        "      <td>...</td>\n",
        "      <td>...</td>\n",
        "      <td>...</td>\n",
        "      <td>...</td>\n",
        "      <td>...</td>\n",
        "      <td>...</td>\n",
        "      <td>...</td>\n",
        "      <td>...</td>\n",
        "      <td>...</td>\n",
        "      <td>...</td>\n",
        "      <td>...</td>\n",
        "      <td>...</td>\n",
        "      <td>...</td>\n",
        "      <td>...</td>\n",
        "    </tr>\n",
        "    <tr>\n",
        "      <th>45</th>\n",
        "      <td> 1</td>\n",
        "      <td> 0</td>\n",
        "      <td>                Butt, Major. Archibald Willingham</td>\n",
        "      <td>   male</td>\n",
        "      <td> 45.0</td>\n",
        "      <td> 0</td>\n",
        "      <td> 0</td>\n",
        "      <td>   113050</td>\n",
        "      <td>  26.6</td>\n",
        "      <td>         B38</td>\n",
        "      <td> S</td>\n",
        "      <td> NaN</td>\n",
        "      <td> NaN</td>\n",
        "      <td>                                 Washington, DC</td>\n",
        "    </tr>\n",
        "    <tr>\n",
        "      <th>46</th>\n",
        "      <td> 1</td>\n",
        "      <td> 0</td>\n",
        "      <td>                            Cairns, Mr. Alexander</td>\n",
        "      <td>   male</td>\n",
        "      <td>  NaN</td>\n",
        "      <td> 0</td>\n",
        "      <td> 0</td>\n",
        "      <td>   113798</td>\n",
        "      <td>  31.0</td>\n",
        "      <td>         NaN</td>\n",
        "      <td> S</td>\n",
        "      <td> NaN</td>\n",
        "      <td> NaN</td>\n",
        "      <td>                                            NaN</td>\n",
        "    </tr>\n",
        "    <tr>\n",
        "      <th>47</th>\n",
        "      <td> 1</td>\n",
        "      <td> 1</td>\n",
        "      <td>                Calderhead, Mr. Edward Pennington</td>\n",
        "      <td>   male</td>\n",
        "      <td> 42.0</td>\n",
        "      <td> 0</td>\n",
        "      <td> 0</td>\n",
        "      <td> PC 17476</td>\n",
        "      <td>  26.3</td>\n",
        "      <td>         E24</td>\n",
        "      <td> S</td>\n",
        "      <td>   5</td>\n",
        "      <td> NaN</td>\n",
        "      <td>                                   New York, NY</td>\n",
        "    </tr>\n",
        "    <tr>\n",
        "      <th>48</th>\n",
        "      <td> 1</td>\n",
        "      <td> 1</td>\n",
        "      <td> Candee, Mrs. Edward (Helen Churchill Hungerford)</td>\n",
        "      <td> female</td>\n",
        "      <td> 53.0</td>\n",
        "      <td> 0</td>\n",
        "      <td> 0</td>\n",
        "      <td> PC 17606</td>\n",
        "      <td>  27.4</td>\n",
        "      <td>         NaN</td>\n",
        "      <td> C</td>\n",
        "      <td>   6</td>\n",
        "      <td> NaN</td>\n",
        "      <td>                                 Washington, DC</td>\n",
        "    </tr>\n",
        "    <tr>\n",
        "      <th>49</th>\n",
        "      <td> 1</td>\n",
        "      <td> 1</td>\n",
        "      <td>               Cardeza, Mr. Thomas Drake Martinez</td>\n",
        "      <td>   male</td>\n",
        "      <td> 36.0</td>\n",
        "      <td> 0</td>\n",
        "      <td> 1</td>\n",
        "      <td> PC 17755</td>\n",
        "      <td> 512.3</td>\n",
        "      <td> B51 B53 B55</td>\n",
        "      <td> C</td>\n",
        "      <td>   3</td>\n",
        "      <td> NaN</td>\n",
        "      <td> Austria-Hungary / Germantown, Philadelphia, PA</td>\n",
        "    </tr>\n",
        "  </tbody>\n",
        "</table>\n",
        "<p>50 rows \u00d7 14 columns</p>\n",
        "</div>"
       ],
       "metadata": {},
       "output_type": "pyout",
       "prompt_number": 6,
       "text": [
        "    pclass  survived                                              name  \\\n",
        "0        1         1                     Allen, Miss. Elisabeth Walton   \n",
        "1        1         1                    Allison, Master. Hudson Trevor   \n",
        "2        1         0                      Allison, Miss. Helen Loraine   \n",
        "3        1         0              Allison, Mr. Hudson Joshua Creighton   \n",
        "4        1         0   Allison, Mrs. Hudson J C (Bessie Waldo Daniels)   \n",
        "..     ...       ...                                               ...   \n",
        "45       1         0                 Butt, Major. Archibald Willingham   \n",
        "46       1         0                             Cairns, Mr. Alexander   \n",
        "47       1         1                 Calderhead, Mr. Edward Pennington   \n",
        "48       1         1  Candee, Mrs. Edward (Helen Churchill Hungerford)   \n",
        "49       1         1                Cardeza, Mr. Thomas Drake Martinez   \n",
        "\n",
        "       sex   age  sibsp  parch    ticket   fare        cabin embarked boat  \\\n",
        "0   female  29.0      0      0     24160  211.3           B5        S    2   \n",
        "1     male   0.9      1      2    113781  151.6      C22 C26        S   11   \n",
        "2   female   2.0      1      2    113781  151.6      C22 C26        S  NaN   \n",
        "3     male  30.0      1      2    113781  151.6      C22 C26        S  NaN   \n",
        "4   female  25.0      1      2    113781  151.6      C22 C26        S  NaN   \n",
        "..     ...   ...    ...    ...       ...    ...          ...      ...  ...   \n",
        "45    male  45.0      0      0    113050   26.6          B38        S  NaN   \n",
        "46    male   NaN      0      0    113798   31.0          NaN        S  NaN   \n",
        "47    male  42.0      0      0  PC 17476   26.3          E24        S    5   \n",
        "48  female  53.0      0      0  PC 17606   27.4          NaN        C    6   \n",
        "49    male  36.0      0      1  PC 17755  512.3  B51 B53 B55        C    3   \n",
        "\n",
        "    body                                       home.dest  \n",
        "0    NaN                                    St Louis, MO  \n",
        "1    NaN                 Montreal, PQ / Chesterville, ON  \n",
        "2    NaN                 Montreal, PQ / Chesterville, ON  \n",
        "3    135                 Montreal, PQ / Chesterville, ON  \n",
        "4    NaN                 Montreal, PQ / Chesterville, ON  \n",
        "..   ...                                             ...  \n",
        "45   NaN                                  Washington, DC  \n",
        "46   NaN                                             NaN  \n",
        "47   NaN                                    New York, NY  \n",
        "48   NaN                                  Washington, DC  \n",
        "49   NaN  Austria-Hungary / Germantown, Philadelphia, PA  \n",
        "\n",
        "[50 rows x 14 columns]"
       ]
      }
     ],
     "prompt_number": 6
    },
    {
     "cell_type": "code",
     "collapsed": false,
     "input": [
      "# Look at the Columns, data types, memory usage, null values\n",
      "titanic.info()"
     ],
     "language": "python",
     "metadata": {},
     "outputs": [
      {
       "output_type": "stream",
       "stream": "stdout",
       "text": [
        "<class 'pandas.core.frame.DataFrame'>\n",
        "Int64Index: 1309 entries, 0 to 1308\n",
        "Data columns (total 14 columns):\n",
        "pclass       1309 non-null int64\n",
        "survived     1309 non-null int64\n",
        "name         1309 non-null object\n",
        "sex          1309 non-null object\n",
        "age          1046 non-null float64\n",
        "sibsp        1309 non-null int64\n",
        "parch        1309 non-null int64\n",
        "ticket       1309 non-null object\n",
        "fare         1308 non-null float64\n",
        "cabin        295 non-null object\n",
        "embarked     1307 non-null object\n",
        "boat         486 non-null object\n",
        "body         121 non-null float64\n",
        "home.dest    745 non-null object\n",
        "dtypes: float64(3), int64(4), object(7)"
       ]
      }
     ],
     "prompt_number": 7
    },
    {
     "cell_type": "code",
     "collapsed": false,
     "input": [
      "# View Distribution\n",
      "titanic.describe()"
     ],
     "language": "python",
     "metadata": {},
     "outputs": [
      {
       "html": [
        "<div style=\"max-height:1000px;max-width:1500px;overflow:auto;\">\n",
        "<table border=\"1\" class=\"dataframe\">\n",
        "  <thead>\n",
        "    <tr style=\"text-align: right;\">\n",
        "      <th></th>\n",
        "      <th>pclass</th>\n",
        "      <th>survived</th>\n",
        "      <th>age</th>\n",
        "      <th>sibsp</th>\n",
        "      <th>parch</th>\n",
        "      <th>fare</th>\n",
        "      <th>body</th>\n",
        "    </tr>\n",
        "  </thead>\n",
        "  <tbody>\n",
        "    <tr>\n",
        "      <th>count</th>\n",
        "      <td> 1309.0</td>\n",
        "      <td> 1309.0</td>\n",
        "      <td> 1046.0</td>\n",
        "      <td> 1309.0</td>\n",
        "      <td> 1309.0</td>\n",
        "      <td> 1308.0</td>\n",
        "      <td> 121.0</td>\n",
        "    </tr>\n",
        "    <tr>\n",
        "      <th>mean</th>\n",
        "      <td>    2.3</td>\n",
        "      <td>    0.4</td>\n",
        "      <td>   29.9</td>\n",
        "      <td>    0.5</td>\n",
        "      <td>    0.4</td>\n",
        "      <td>   33.3</td>\n",
        "      <td> 160.8</td>\n",
        "    </tr>\n",
        "    <tr>\n",
        "      <th>std</th>\n",
        "      <td>    0.8</td>\n",
        "      <td>    0.5</td>\n",
        "      <td>   14.4</td>\n",
        "      <td>    1.0</td>\n",
        "      <td>    0.9</td>\n",
        "      <td>   51.8</td>\n",
        "      <td>  97.7</td>\n",
        "    </tr>\n",
        "    <tr>\n",
        "      <th>min</th>\n",
        "      <td>    1.0</td>\n",
        "      <td>    0.0</td>\n",
        "      <td>    0.2</td>\n",
        "      <td>    0.0</td>\n",
        "      <td>    0.0</td>\n",
        "      <td>    0.0</td>\n",
        "      <td>   1.0</td>\n",
        "    </tr>\n",
        "    <tr>\n",
        "      <th>25%</th>\n",
        "      <td>    2.0</td>\n",
        "      <td>    0.0</td>\n",
        "      <td>   21.0</td>\n",
        "      <td>    0.0</td>\n",
        "      <td>    0.0</td>\n",
        "      <td>    7.9</td>\n",
        "      <td>  72.0</td>\n",
        "    </tr>\n",
        "    <tr>\n",
        "      <th>50%</th>\n",
        "      <td>    3.0</td>\n",
        "      <td>    0.0</td>\n",
        "      <td>   28.0</td>\n",
        "      <td>    0.0</td>\n",
        "      <td>    0.0</td>\n",
        "      <td>   14.5</td>\n",
        "      <td> 155.0</td>\n",
        "    </tr>\n",
        "    <tr>\n",
        "      <th>75%</th>\n",
        "      <td>    3.0</td>\n",
        "      <td>    1.0</td>\n",
        "      <td>   39.0</td>\n",
        "      <td>    1.0</td>\n",
        "      <td>    0.0</td>\n",
        "      <td>   31.3</td>\n",
        "      <td> 256.0</td>\n",
        "    </tr>\n",
        "    <tr>\n",
        "      <th>max</th>\n",
        "      <td>    3.0</td>\n",
        "      <td>    1.0</td>\n",
        "      <td>   80.0</td>\n",
        "      <td>    8.0</td>\n",
        "      <td>    9.0</td>\n",
        "      <td>  512.3</td>\n",
        "      <td> 328.0</td>\n",
        "    </tr>\n",
        "  </tbody>\n",
        "</table>\n",
        "</div>"
       ],
       "metadata": {},
       "output_type": "pyout",
       "prompt_number": 8,
       "text": [
        "       pclass  survived     age   sibsp   parch    fare   body\n",
        "count  1309.0    1309.0  1046.0  1309.0  1309.0  1308.0  121.0\n",
        "mean      2.3       0.4    29.9     0.5     0.4    33.3  160.8\n",
        "std       0.8       0.5    14.4     1.0     0.9    51.8   97.7\n",
        "min       1.0       0.0     0.2     0.0     0.0     0.0    1.0\n",
        "25%       2.0       0.0    21.0     0.0     0.0     7.9   72.0\n",
        "50%       3.0       0.0    28.0     0.0     0.0    14.5  155.0\n",
        "75%       3.0       1.0    39.0     1.0     0.0    31.3  256.0\n",
        "max       3.0       1.0    80.0     8.0     9.0   512.3  328.0"
       ]
      }
     ],
     "prompt_number": 8
    },
    {
     "cell_type": "code",
     "collapsed": false,
     "input": [
      "titanic.columns"
     ],
     "language": "python",
     "metadata": {},
     "outputs": [
      {
       "metadata": {},
       "output_type": "pyout",
       "prompt_number": 12,
       "text": [
        "Index([u'pclass', u'survived', u'name', u'sex', u'age', u'sibsp', u'parch', u'ticket', u'fare', u'cabin', u'embarked', u'boat', u'body', u'home.dest'], dtype='object')"
       ]
      }
     ],
     "prompt_number": 12
    },
    {
     "cell_type": "code",
     "collapsed": false,
     "input": [
      "titanic.rename(columns={'gender': 'sex'}, inplace=True)"
     ],
     "language": "python",
     "metadata": {},
     "outputs": [],
     "prompt_number": 11
    },
    {
     "cell_type": "code",
     "collapsed": false,
     "input": [
      "# So What is a Pandas Dataframe\n",
      "# What is a Pandas DataFrame\n",
      "Image(filename='images/dataframe.png')"
     ],
     "language": "python",
     "metadata": {},
     "outputs": []
    },
    {
     "cell_type": "code",
     "collapsed": false,
     "input": [
      "# show only that survived\n",
      "titanic[titanic.survived == 1]"
     ],
     "language": "python",
     "metadata": {},
     "outputs": []
    },
    {
     "cell_type": "code",
     "collapsed": false,
     "input": [
      "# unique values\n",
      "titanic.gender.unique()"
     ],
     "language": "python",
     "metadata": {},
     "outputs": []
    },
    {
     "cell_type": "code",
     "collapsed": false,
     "input": [
      "# How many Survived?\n",
      "titanic['survived'].value_counts()"
     ],
     "language": "python",
     "metadata": {},
     "outputs": []
    },
    {
     "cell_type": "code",
     "collapsed": false,
     "input": [
      "titanic.info()"
     ],
     "language": "python",
     "metadata": {},
     "outputs": []
    },
    {
     "cell_type": "code",
     "collapsed": false,
     "input": [
      "# Let's identify the missing age rows \n",
      "titanic.age[pd.isnull(titanic.age)]"
     ],
     "language": "python",
     "metadata": {},
     "outputs": []
    },
    {
     "cell_type": "code",
     "collapsed": false,
     "input": [
      "# Age - fix null values\n",
      "titanic.age.fillna(titanic.age.mean())"
     ],
     "language": "python",
     "metadata": {},
     "outputs": []
    },
    {
     "cell_type": "code",
     "collapsed": false,
     "input": [
      "# Did the inplace get us again?"
     ],
     "language": "python",
     "metadata": {},
     "outputs": []
    },
    {
     "cell_type": "code",
     "collapsed": false,
     "input": [
      "# Distribution of Age\n",
      "titanic.age.hist()"
     ],
     "language": "python",
     "metadata": {},
     "outputs": []
    },
    {
     "cell_type": "code",
     "collapsed": false,
     "input": [
      "# Distribution of Age by Gender\n",
      "titanic.age.hist(by=titanic['gender']);"
     ],
     "language": "python",
     "metadata": {},
     "outputs": []
    },
    {
     "cell_type": "code",
     "collapsed": false,
     "input": [
      "# They look the same, buy see that y-axis is not the same\n",
      "titanic.age.hist(by=titanic['gender'], sharey=True);"
     ],
     "language": "python",
     "metadata": {},
     "outputs": []
    },
    {
     "cell_type": "code",
     "collapsed": false,
     "input": [
      "# Did your gender make a difference in survival\n",
      "titanic.gender.value_counts()"
     ],
     "language": "python",
     "metadata": {},
     "outputs": []
    },
    {
     "cell_type": "code",
     "collapsed": false,
     "input": [
      "Image(filename='images/wesm_book_groupby.png')"
     ],
     "language": "python",
     "metadata": {},
     "outputs": []
    },
    {
     "cell_type": "code",
     "collapsed": false,
     "input": [
      "# Groupby\n",
      "titanic.groupby(['pclass', 'gender'])['survived'].agg(['sum', 'count'])"
     ],
     "language": "python",
     "metadata": {},
     "outputs": []
    },
    {
     "cell_type": "code",
     "collapsed": false,
     "input": [
      "# Show how many survivied by gender and class\n",
      "class_gender_group = titanic.groupby(['pclass', 'gender'])"
     ],
     "language": "python",
     "metadata": {},
     "outputs": []
    },
    {
     "cell_type": "code",
     "collapsed": false,
     "input": [
      "for k, group in class_gender_group:\n",
      "    print(k)"
     ],
     "language": "python",
     "metadata": {},
     "outputs": []
    },
    {
     "cell_type": "code",
     "collapsed": false,
     "input": [
      "# Plot how many survived, by gender and class\n",
      "grid_plot = sns.FacetGrid(titanic, row='gender', col='pclass')\n",
      "grid_plot.map(sns.regplot, 'survived', 'age',color='.3', fit_reg=False, x_jitter=.1)"
     ],
     "language": "python",
     "metadata": {},
     "outputs": []
    },
    {
     "cell_type": "code",
     "collapsed": false,
     "input": [
      "ax = sns.boxplot(titanic.age, groupby=titanic.pclass)\n",
      "ax.set_title('Age Distribution by class')"
     ],
     "language": "python",
     "metadata": {},
     "outputs": []
    },
    {
     "cell_type": "code",
     "collapsed": false,
     "input": [
      "# Who paid the highest Fare in Titanic.  Did they survive?\n",
      "titanic.sort_index(by='fare', ascending=False)"
     ],
     "language": "python",
     "metadata": {},
     "outputs": []
    },
    {
     "cell_type": "code",
     "collapsed": false,
     "input": [
      "# Custom Translation of Values and creating new Columns\n",
      "def gender_map(val):\n",
      "    if val == 'male':\n",
      "        return 1\n",
      "    return 0\n",
      "titanic['gender_val'] = titanic.gender.map(gender_map)"
     ],
     "language": "python",
     "metadata": {},
     "outputs": []
    },
    {
     "cell_type": "code",
     "collapsed": false,
     "input": [
      "titanic.head()"
     ],
     "language": "python",
     "metadata": {},
     "outputs": []
    },
    {
     "cell_type": "code",
     "collapsed": false,
     "input": [
      "# Some mistakes I made when learning to work with Pandas\n",
      "# Don't use Loop to update Dataframe\n",
      "for k, row in titanic.iterrows():\n",
      "    if row.gender == 'male':\n",
      "        titanic.ix[k, 'gender_val'] = 5\n",
      "    else:\n",
      "        titanic.ix[k, 'gender_val'] = 6"
     ],
     "language": "python",
     "metadata": {},
     "outputs": []
    },
    {
     "cell_type": "code",
     "collapsed": false,
     "input": [
      "titanic.head()"
     ],
     "language": "python",
     "metadata": {},
     "outputs": []
    },
    {
     "cell_type": "code",
     "collapsed": false,
     "input": [
      "# Filtering Gotchas\n",
      "titanic[(titanic.survived == 1) & (titanic.pclass == 1)]"
     ],
     "language": "python",
     "metadata": {},
     "outputs": []
    },
    {
     "cell_type": "code",
     "collapsed": false,
     "input": [
      "# Let's now look at Distribution of Age and Survived\n",
      "# Now look at survived data\n",
      "g = sns.FacetGrid(titanic, row='gender', col='survived', sharex=True, sharey=True)\n",
      "g.map(plt.hist, \"age\")"
     ],
     "language": "python",
     "metadata": {},
     "outputs": []
    },
    {
     "cell_type": "code",
     "collapsed": false,
     "input": [
      "# Now, your turn - Can you do some plots with pclass (Passenger Class)\n"
     ],
     "language": "python",
     "metadata": {},
     "outputs": []
    }
   ],
   "metadata": {}
  }
 ]
}